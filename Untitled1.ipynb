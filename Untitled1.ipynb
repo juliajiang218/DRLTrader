{
 "cells": [
  {
   "cell_type": "code",
   "execution_count": null,
   "id": "fb725cd2-81fd-4c6b-b67f-49a42ad39e94",
   "metadata": {},
   "outputs": [],
   "source": [
    "import numpy as np\n",
    "import pandas as pd\n",
    "\n",
    "# Example with 3 stocks\n",
    "returns_data = pd.DataFrame({\n",
    "    'AAPL_returns': [0.02, -0.01, 0.03, -0.02, 0.01],\n",
    "    'MSFT_returns': [0.01, 0.02, -0.01, 0.03, -0.01], \n",
    "    'TSLA_returns': [0.05, -0.04, 0.02, -0.03, 0.06]\n",
    "})\n",
    "\n",
    "# Covariance matrix shows how stocks move together\n",
    "cov_matrix = returns_data.cov()\n",
    "print(\"Covariance Matrix:\")\n",
    "print(cov_matrix)"
   ]
  }
 ],
 "metadata": {
  "kernelspec": {
   "display_name": "Python 3 (ipykernel)",
   "language": "python",
   "name": "python3"
  },
  "language_info": {
   "codemirror_mode": {
    "name": "ipython",
    "version": 3
   },
   "file_extension": ".py",
   "mimetype": "text/x-python",
   "name": "python",
   "nbconvert_exporter": "python",
   "pygments_lexer": "ipython3",
   "version": "3.11.8"
  }
 },
 "nbformat": 4,
 "nbformat_minor": 5
}
